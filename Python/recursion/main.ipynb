{
 "cells": [
  {
   "cell_type": "markdown",
   "metadata": {},
   "source": [
    "Print N natural number using recurssion  "
   ]
  },
  {
   "cell_type": "code",
   "execution_count": 4,
   "metadata": {},
   "outputs": [
    {
     "name": "stdout",
     "output_type": "stream",
     "text": [
      "1 2 3 4 5 6 7 8 9 10 "
     ]
    }
   ],
   "source": [
    "def print_n_natural_number(n): \n",
    "    if n>0: \n",
    "        print_n_natural_number(n-1) \n",
    "        print(n,end=\" \") \n",
    "print_n_natural_number(10)"
   ]
  },
  {
   "cell_type": "markdown",
   "metadata": {},
   "source": [
    "Print N natural number using recurssion  reverse"
   ]
  },
  {
   "cell_type": "code",
   "execution_count": 5,
   "metadata": {},
   "outputs": [
    {
     "name": "stdout",
     "output_type": "stream",
     "text": [
      "10 9 8 7 6 5 4 3 2 1 "
     ]
    }
   ],
   "source": [
    "def reverse_print(n): \n",
    "    if n>0:  \n",
    "        print(n,end=\" \") \n",
    "        reverse_print(n-1) \n",
    "\n",
    "reverse_print(10)\n",
    "        "
   ]
  },
  {
   "cell_type": "markdown",
   "metadata": {},
   "source": [
    "Print N ODD natural number using recurssion "
   ]
  },
  {
   "cell_type": "code",
   "execution_count": 12,
   "metadata": {},
   "outputs": [
    {
     "name": "stdout",
     "output_type": "stream",
     "text": [
      "1 3 5 7 9 11 13 15 17 19 "
     ]
    }
   ],
   "source": [
    "def print_odd_n_number(n): \n",
    "    if n>0: \n",
    "        print_odd_n_number(n-1) \n",
    "        print(2*n-1,end=\" \") \n",
    "print_odd_n_number(10)"
   ]
  },
  {
   "cell_type": "markdown",
   "metadata": {},
   "source": [
    "Print N EVEN natural number using recurssion "
   ]
  },
  {
   "cell_type": "code",
   "execution_count": 14,
   "metadata": {},
   "outputs": [
    {
     "name": "stdout",
     "output_type": "stream",
     "text": [
      "2 4 6 8 10 12 14 16 18 20 "
     ]
    }
   ],
   "source": [
    "def print_even_n_number(n): \n",
    "    if n>0: \n",
    "        print_even_n_number(n-1) \n",
    "        print(2*n,end=\" \") \n",
    "print_even_n_number(10)"
   ]
  },
  {
   "cell_type": "markdown",
   "metadata": {},
   "source": [
    "Print N EVEN natural number using recurssion reverse"
   ]
  },
  {
   "cell_type": "code",
   "execution_count": 16,
   "metadata": {},
   "outputs": [
    {
     "name": "stdout",
     "output_type": "stream",
     "text": [
      "20 18 16 14 12 10 8 6 4 2 "
     ]
    }
   ],
   "source": [
    "def print_even_reverse_n_number(n): \n",
    "    if n>0: \n",
    "        print(2*n,end=\" \") \n",
    "        print_even_reverse_n_number(n-1) \n",
    "print_even_reverse_n_number(10)"
   ]
  },
  {
   "cell_type": "markdown",
   "metadata": {},
   "source": [
    "Print N ODD natural number using recursion reverse"
   ]
  },
  {
   "cell_type": "code",
   "execution_count": 18,
   "metadata": {},
   "outputs": [
    {
     "name": "stdout",
     "output_type": "stream",
     "text": [
      "19 17 15 13 11 9 7 5 3 1 "
     ]
    }
   ],
   "source": [
    "def print_odd_reverse_n_number(n): \n",
    "    if n>0: \n",
    "        print(2*n-1,end=\" \") \n",
    "        print_odd_reverse_n_number(n-1) \n",
    "print_odd_reverse_n_number(10)"
   ]
  },
  {
   "cell_type": "markdown",
   "metadata": {},
   "source": [
    "Write a recursive function to cazlculate sum of N odd natural numbers      "
   ]
  },
  {
   "cell_type": "code",
   "execution_count": 5,
   "metadata": {},
   "outputs": [
    {
     "data": {
      "text/plain": [
       "55"
      ]
     },
     "execution_count": 5,
     "metadata": {},
     "output_type": "execute_result"
    }
   ],
   "source": [
    "def sum_of_natural_number(n): \n",
    "    if n==1 : \n",
    "        return 1     \n",
    "    return n+sum_of_natural_number(n-1) \n",
    "sum_of_natural_number(10)"
   ]
  },
  {
   "cell_type": "markdown",
   "metadata": {},
   "source": [
    "Write a recurssive function to calculate sum of first N odd natural number "
   ]
  },
  {
   "cell_type": "code",
   "execution_count": 7,
   "metadata": {},
   "outputs": [
    {
     "name": "stdout",
     "output_type": "stream",
     "text": [
      "100\n"
     ]
    }
   ],
   "source": [
    "def sum_of_odd_natural_number(n): \n",
    "    if n==1: \n",
    "        return 1 \n",
    "    return 2*n-1 + sum_of_odd_natural_number(n-1)\n",
    "print(sum_of_odd_natural_number(10))"
   ]
  },
  {
   "cell_type": "markdown",
   "metadata": {},
   "source": [
    "WRITE A RECURSIVE FUNCTION TO CALCULATE SUM OF N EVEN NATURAL NUMBERS"
   ]
  },
  {
   "cell_type": "code",
   "execution_count": 8,
   "metadata": {},
   "outputs": [
    {
     "name": "stdout",
     "output_type": "stream",
     "text": [
      "109\n"
     ]
    }
   ],
   "source": [
    "def sum_even(n): \n",
    "    if n ==1 : \n",
    "        return 1   \n",
    "    return 2*n + sum_even(n-1) \n",
    "print(sum_even(10))"
   ]
  },
  {
   "cell_type": "markdown",
   "metadata": {},
   "source": [
    "Write a recurrsive function to find the Factorial of number "
   ]
  },
  {
   "cell_type": "code",
   "execution_count": 10,
   "metadata": {},
   "outputs": [
    {
     "name": "stdout",
     "output_type": "stream",
     "text": [
      "120\n"
     ]
    }
   ],
   "source": [
    "def fact(n): \n",
    "    if n ==0: \n",
    "        return 1   \n",
    "    return n* fact(n-1) \n",
    "print(fact(5))"
   ]
  },
  {
   "cell_type": "markdown",
   "metadata": {},
   "source": [
    "Write a recurssive fn to find the sum of square"
   ]
  },
  {
   "cell_type": "code",
   "execution_count": 12,
   "metadata": {},
   "outputs": [
    {
     "name": "stdout",
     "output_type": "stream",
     "text": [
      "55\n"
     ]
    }
   ],
   "source": [
    "def SumOfSquare(n): \n",
    "    if n ==1 : \n",
    "        return 1 \n",
    "    return n*n+SumOfSquare(n-1) \n",
    "print(SumOfSquare(5)) "
   ]
  },
  {
   "cell_type": "code",
   "execution_count": null,
   "metadata": {},
   "outputs": [],
   "source": []
  }
 ],
 "metadata": {
  "kernelspec": {
   "display_name": "Python 3",
   "language": "python",
   "name": "python3"
  },
  "language_info": {
   "codemirror_mode": {
    "name": "ipython",
    "version": 3
   },
   "file_extension": ".py",
   "mimetype": "text/x-python",
   "name": "python",
   "nbconvert_exporter": "python",
   "pygments_lexer": "ipython3",
   "version": "3.11.5"
  }
 },
 "nbformat": 4,
 "nbformat_minor": 2
}
